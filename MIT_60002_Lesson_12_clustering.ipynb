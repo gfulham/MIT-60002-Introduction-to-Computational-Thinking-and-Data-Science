{
 "cells": [
  {
   "cell_type": "code",
   "execution_count": 1,
   "id": "b29f8d69-5fbc-4f57-ae78-fdcb5b378440",
   "metadata": {},
   "outputs": [],
   "source": [
    "import cluster #another py file in same directory\n",
    "import random, pylab, numpy"
   ]
  },
  {
   "cell_type": "code",
   "execution_count": 7,
   "id": "7a2255b1-db3f-49b1-8277-25d08dab8ef8",
   "metadata": {},
   "outputs": [],
   "source": [
    "class Patient(cluster.Example):\n",
    "    pass\n",
    "\n",
    "def scaleAttrs(vals): # Z scalling\n",
    "    vals = pylab.array(vals) #convert list to array\n",
    "    mean = sum(vals)/len(vals) #compute mean\n",
    "    sd = numpy.std(vals) #use numpy built in function to compute stdeviation\n",
    "    vals = vals - mean #subtract mean from each values, centering the distribution around 0\n",
    "    return vals/sd #scales the values ensuring distribution with stdev of 1\n",
    "\n",
    "def getData(toScale = False):\n",
    "    #read in data\n",
    "    hrList, stElevList, ageList, prevACSList, classList = [],[],[],[],[]\n",
    "    cardiacData = open('cardiacData.txt', 'r')\n",
    "    for l in cardiacData:\n",
    "        l = l.split(',')\n",
    "        hrList.append(int(l[0]))\n",
    "        stElevList.append(int(l[1]))\n",
    "        ageList.append(int(l[2]))\n",
    "        prevACSList.append(int(l[3]))\n",
    "        classList.append(int(l[4]))\n",
    "    if toScale:\n",
    "        hrList = scaleAttrs(hrList)\n",
    "        stElevList = scaleAttrs(stElevList)\n",
    "        ageList = scaleAttrs(ageList)\n",
    "        prevACSList = scaleAttrs(prevACSList)\n",
    "    #Build points\n",
    "    points = []\n",
    "    for i in range(len(hrList)):\n",
    "        features = pylab.array([hrList[i], prevACSList[i],\\\n",
    "                                stElevList[i], ageList[i]])\n",
    "        pIndex = str(i)\n",
    "        points.append(Patient('P'+ pIndex, features, classList[i]))\n",
    "    return points\n",
    "    \n",
    "def kmeans(examples, k, verbose = False):\n",
    "    #Get k randomly chosen initial centroids, create cluster for each\n",
    "    initialCentroids = random.sample(examples, k)\n",
    "    clusters = []\n",
    "    for e in initialCentroids:\n",
    "        clusters.append(cluster.Cluster([e]))\n",
    "        \n",
    "    #Iterate until centroids do not change\n",
    "    converged = False\n",
    "    numIterations = 0\n",
    "    while not converged:\n",
    "        numIterations += 1\n",
    "        #Create a list containing k distinct empty lists\n",
    "        newClusters = []\n",
    "        for i in range(k):\n",
    "            newClusters.append([])\n",
    "            \n",
    "        #Associate each example with closest centroid\n",
    "        for e in examples:\n",
    "            #Find the centroid closest to e\n",
    "            smallestDistance = e.distance(clusters[0].getCentroid())\n",
    "            index = 0\n",
    "            for i in range(1, k):\n",
    "                distance = e.distance(clusters[i].getCentroid())\n",
    "                if distance < smallestDistance:\n",
    "                    smallestDistance = distance\n",
    "                    index = i\n",
    "            #Add e to the list of examples for appropriate cluster\n",
    "            newClusters[index].append(e)\n",
    "            \n",
    "        for c in newClusters: #Avoid having empty clusters\n",
    "            if len(c) == 0:\n",
    "                raise ValueError('Empty Cluster')\n",
    "        \n",
    "        #Update each cluster; check if a centroid has changed\n",
    "        converged = True\n",
    "        for i in range(k):\n",
    "            if clusters[i].update(newClusters[i]) > 0.0:\n",
    "                converged = False\n",
    "        if verbose:\n",
    "            print('Iteration #' + str(numIterations))\n",
    "            for c in clusters:\n",
    "                print(c)\n",
    "            print('') #add blank line\n",
    "    return clusters\n",
    "\n",
    "def trykmeans(examples, numClusters, numTrials, verbose = False):\n",
    "    \"\"\"Calls kmeans numTrials times and returns the result with the\n",
    "          lowest dissimilarity\"\"\"\n",
    "    best = kmeans(examples, numClusters, verbose)\n",
    "    minDissimilarity = cluster.dissimilarity(best)\n",
    "    trial = 1\n",
    "    while trial < numTrials:\n",
    "        try:\n",
    "            clusters = kmeans(examples, numClusters, verbose)\n",
    "        except ValueError:\n",
    "            continue #If failed, try again\n",
    "        currDissimilarity = cluster.dissimilarity(clusters)\n",
    "        if currDissimilarity < minDissimilarity:\n",
    "            best = clusters\n",
    "            minDissimilarity = currDissimilarity\n",
    "        trial += 1\n",
    "    return best\n",
    "\n",
    "def printClustering(clustering):\n",
    "    \"\"\"Assumes: clustering is a sequence of clusters\n",
    "       Prints information about each cluster\n",
    "       Returns list of fraction of pos cases in each cluster\"\"\"\n",
    "    posFracs = []\n",
    "    for c in clustering:\n",
    "        numPts = 0\n",
    "        numPos = 0\n",
    "        for p in c.members():\n",
    "            numPts += 1\n",
    "            if p.getLabel() == 1:\n",
    "                numPos += 1\n",
    "        fracPos = numPos/numPts\n",
    "        posFracs.append(fracPos)\n",
    "        print('Cluster of size', numPts, 'with fraction of positives =',\n",
    "              round(fracPos, 4))\n",
    "    return pylab.array(posFracs)\n",
    "\n",
    "def testClustering(patients, numClusters, seed = 0, numTrials = 5):\n",
    "    random.seed(seed)\n",
    "    bestClustering = trykmeans(patients, numClusters, numTrials)\n",
    "    posFracs = printClustering(bestClustering)\n",
    "    return posFracs"
   ]
  },
  {
   "cell_type": "code",
   "execution_count": 13,
   "id": "5652c284-f56f-4f3c-b87b-19f1649ccb15",
   "metadata": {},
   "outputs": [
    {
     "name": "stdout",
     "output_type": "stream",
     "text": [
      "\n",
      "     Test k-means (k = 2)\n",
      "Cluster of size 118 with fraction of positives = 0.3305\n",
      "Cluster of size 132 with fraction of positives = 0.3333\n"
     ]
    }
   ],
   "source": [
    "patients = getData() #scaling = false\n",
    "for k in (2,):\n",
    "    print('\\n     Test k-means (k = ' + str(k) + ')')\n",
    "    posFracs = testClustering(patients, k, seed = 2, numTrials = 5)"
   ]
  },
  {
   "cell_type": "code",
   "execution_count": 16,
   "id": "96b459a0-cbca-4b87-94a9-a87463dcf969",
   "metadata": {},
   "outputs": [
    {
     "name": "stdout",
     "output_type": "stream",
     "text": [
      "\n",
      "     Test k-means (k = 2)\n",
      "Cluster of size 224 with fraction of positives = 0.2902\n",
      "Cluster of size 26 with fraction of positives = 0.6923\n"
     ]
    }
   ],
   "source": [
    "patients = getData(toScale = True) \n",
    "for k in (2,):\n",
    "    print('\\n     Test k-means (k = ' + str(k) + ')')\n",
    "    posFracs = testClustering(patients, k, seed = 2, numTrials = 5)"
   ]
  },
  {
   "cell_type": "code",
   "execution_count": 18,
   "id": "92cc1f56-a21a-4777-858f-5ad2c0ec073a",
   "metadata": {},
   "outputs": [
    {
     "name": "stdout",
     "output_type": "stream",
     "text": [
      "\n",
      "     Test k-means (k = 2)\n",
      "Cluster of size 224 with fraction of positives = 0.2902\n",
      "Cluster of size 26 with fraction of positives = 0.6923\n",
      "\n",
      "     Test k-means (k = 4)\n",
      "Cluster of size 26 with fraction of positives = 0.6923\n",
      "Cluster of size 86 with fraction of positives = 0.0814\n",
      "Cluster of size 76 with fraction of positives = 0.7105\n",
      "Cluster of size 62 with fraction of positives = 0.0645\n",
      "\n",
      "     Test k-means (k = 6)\n",
      "Cluster of size 49 with fraction of positives = 0.0204\n",
      "Cluster of size 26 with fraction of positives = 0.6923\n",
      "Cluster of size 45 with fraction of positives = 0.0889\n",
      "Cluster of size 54 with fraction of positives = 0.0926\n",
      "Cluster of size 36 with fraction of positives = 0.7778\n",
      "Cluster of size 40 with fraction of positives = 0.675\n"
     ]
    }
   ],
   "source": [
    "patients = getData(toScale = True) \n",
    "for k in (2,4,6):\n",
    "    print('\\n     Test k-means (k = ' + str(k) + ')')\n",
    "    posFracs = testClustering(patients, k, seed = 2, numTrials = 5)"
   ]
  },
  {
   "cell_type": "code",
   "execution_count": 17,
   "id": "b08b334b-414a-4ddd-a6fc-f994ffce76a6",
   "metadata": {},
   "outputs": [
    {
     "name": "stdout",
     "output_type": "stream",
     "text": [
      "Total number of positive patients = 83\n"
     ]
    }
   ],
   "source": [
    "numPos = 0\n",
    "for p in patients:\n",
    "   if p.getLabel() == 1:\n",
    "       numPos += 1\n",
    "print('Total number of positive patients =', numPos)"
   ]
  },
  {
   "cell_type": "code",
   "execution_count": 5,
   "id": "64e547ce-a62b-407d-8c00-4fa340fb43c4",
   "metadata": {},
   "outputs": [
    {
     "name": "stdout",
     "output_type": "stream",
     "text": [
      "2\n",
      "18\n",
      "Original Values: [2, 5, 8, 12, 18]\n",
      "Scaled Values: [0.     0.1875 0.375  0.625  1.    ]\n"
     ]
    }
   ],
   "source": [
    "#scaling features\n",
    "\n",
    "import numpy as np\n",
    "\n",
    "def interpolate_scaling(vals, new_min=0, new_max=1):\n",
    "    # Assuming vals is a list or array of values\n",
    "    vals = np.array(vals)\n",
    "\n",
    "    # Original range (min and max values of vals)\n",
    "    old_min, old_max = np.min(vals), np.max(vals)\n",
    "  \n",
    "    # Interpolate and scale the values to the new range\n",
    "    scaled_vals = new_min + (vals - old_min) * (new_max - new_min) / (old_max - old_min)\n",
    "\n",
    "    return scaled_vals\n",
    "\n",
    "# Example usage:\n",
    "original_values = [2, 5, 8, 12, 18]\n",
    "scaled_values = interpolate_scaling(original_values)\n",
    "\n",
    "print(\"Original Values:\", original_values)\n",
    "print(\"Scaled Values:\", scaled_values)"
   ]
  }
 ],
 "metadata": {
  "kernelspec": {
   "display_name": "Python 3 (ipykernel)",
   "language": "python",
   "name": "python3"
  },
  "language_info": {
   "codemirror_mode": {
    "name": "ipython",
    "version": 3
   },
   "file_extension": ".py",
   "mimetype": "text/x-python",
   "name": "python",
   "nbconvert_exporter": "python",
   "pygments_lexer": "ipython3",
   "version": "3.9.18"
  }
 },
 "nbformat": 4,
 "nbformat_minor": 5
}
